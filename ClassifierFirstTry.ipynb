{
 "cells": [
  {
   "cell_type": "markdown",
   "metadata": {},
   "source": [
    "# Classification"
   ]
  },
  {
   "cell_type": "code",
   "execution_count": 1,
   "metadata": {
    "collapsed": false
   },
   "outputs": [
    {
     "name": "stdout",
     "output_type": "stream",
     "text": [
      "Populating the interactive namespace from numpy and matplotlib\n"
     ]
    }
   ],
   "source": [
    "import numpy as np\n",
    "import pandas as pd\n",
    "import seaborn as sns\n",
    "from ipywidgets import FloatProgress\n",
    "from matplotlib.colors import ListedColormap\n",
    "from sklearn import ensemble, cross_validation, learning_curve, metrics, multiclass, preprocessing\n",
    "%pylab inline"
   ]
  },
  {
   "cell_type": "code",
   "execution_count": 2,
   "metadata": {
    "collapsed": false
   },
   "outputs": [],
   "source": [
    "data = pd.read_csv('threeclassdata.csv', index_col='Unnamed: 0')\n",
    "\n",
    "X = data.drop('Label', axis = 1)\n",
    "y = data['Label']\n",
    "\n",
    "pia_border = np.where(data['Label'] == 0)[0][-1:][0]\n",
    "vio_border = np.where(data['Label'] == 1)[0][-1:][0]\n",
    "\n",
    "pia_data = data.drop('Label', axis = 1)\n",
    "pia_data['Label'] = np.hstack([np.ones(pia_border), np.zeros(len(data) - pia_border)])\n",
    "X_pia = pia_data.drop('Label', axis = 1)\n",
    "y_pia = pia_data['Label']\n",
    "\n",
    "vio_data = data.drop('Label', axis = 1)\n",
    "vio_data['Label'] = np.hstack([np.zeros(pia_border), np.ones(vio_border - pia_border),\n",
    "                               np.zeros(len(data) - vio_border)])\n",
    "X_vio = vio_data.drop('Label', axis = 1)\n",
    "y_vio = vio_data['Label']\n",
    "\n",
    "gac_data = data.drop('Label', axis = 1)\n",
    "gac_data['Label'] = np.hstack([np.zeros(vio_border), np.ones(len(data) - vio_border)])\n",
    "X_gac = gac_data.drop('Label', axis = 1)\n",
    "y_gac = gac_data['Label']"
   ]
  },
  {
   "cell_type": "code",
   "execution_count": 3,
   "metadata": {
    "collapsed": false
   },
   "outputs": [],
   "source": [
    "X_train, X_test, y_train, y_test = cross_validation.train_test_split(X, y, test_size = 0.3, stratify = y)\n",
    "\n",
    "sc = preprocessing.StandardScaler()\n",
    "\n",
    "X_train = preprocessing.StandardScaler.fit_transform(sc, X_train)\n",
    "X_test = preprocessing.StandardScaler.transform(sc, X_test)\n",
    "\n",
    "(X_pia_train,\n",
    "X_pia_test,\n",
    "y_pia_train,\n",
    "y_pia_test) = cross_validation.train_test_split(X_pia, y_pia,\n",
    "                                                test_size = 0.3, stratify = y_pia)\n",
    "\n",
    "X_pia_train = preprocessing.StandardScaler.fit_transform(sc, X_pia_train)\n",
    "X_pia_test = preprocessing.StandardScaler.transform(sc, X_pia_test)\n",
    "\n",
    "(X_vio_train,\n",
    "X_vio_test,\n",
    "y_vio_train,\n",
    "y_vio_test) = cross_validation.train_test_split(X_vio,  y_vio,\n",
    "                                                test_size = 0.3, stratify = y_vio)\n",
    "\n",
    "X_vio_train = preprocessing.StandardScaler.fit_transform(sc, X_vio_train)\n",
    "X_vio_test = preprocessing.StandardScaler.transform(sc, X_vio_test)\n",
    "\n",
    "(X_gac_train,\n",
    "X_gac_test,\n",
    "y_gac_train,\n",
    "y_gac_test) = cross_validation.train_test_split(X_gac, y_gac,\n",
    "                                                test_size = 0.3, stratify = y_gac)\n",
    "\n",
    "X_gac_train = preprocessing.StandardScaler.fit_transform(sc, X_gac_train)\n",
    "X_gac_test = preprocessing.StandardScaler.transform(sc, X_gac_test)"
   ]
  },
  {
   "cell_type": "code",
   "execution_count": 4,
   "metadata": {
    "collapsed": true
   },
   "outputs": [],
   "source": [
    "def get_score(model, X, y, cv = 10, n_jobs = 1):\n",
    "    return cross_validation.cross_val_score(model, X, y, cv = cv, n_jobs = n_jobs).mean()"
   ]
  },
  {
   "cell_type": "markdown",
   "metadata": {},
   "source": [
    "## RandomForest"
   ]
  },
  {
   "cell_type": "markdown",
   "metadata": {},
   "source": [
    "Regardless of multilabel"
   ]
  },
  {
   "cell_type": "code",
   "execution_count": 5,
   "metadata": {
    "collapsed": true
   },
   "outputs": [],
   "source": [
    "rf = ensemble.RandomForestClassifier(n_estimators = 50)"
   ]
  },
  {
   "cell_type": "code",
   "execution_count": 6,
   "metadata": {
    "collapsed": false
   },
   "outputs": [
    {
     "data": {
      "text/plain": [
       "RandomForestClassifier(bootstrap=True, class_weight=None, criterion='gini',\n",
       "            max_depth=None, max_features='auto', max_leaf_nodes=None,\n",
       "            min_samples_leaf=1, min_samples_split=2,\n",
       "            min_weight_fraction_leaf=0.0, n_estimators=50, n_jobs=1,\n",
       "            oob_score=False, random_state=None, verbose=0,\n",
       "            warm_start=False)"
      ]
     },
     "execution_count": 6,
     "metadata": {},
     "output_type": "execute_result"
    }
   ],
   "source": [
    "rf.fit(X_train, y_train)"
   ]
  },
  {
   "cell_type": "code",
   "execution_count": 7,
   "metadata": {
    "collapsed": false
   },
   "outputs": [
    {
     "name": "stdout",
     "output_type": "stream",
     "text": [
      "0.632302405498\n"
     ]
    }
   ],
   "source": [
    "score = rf.score(X_test, y_test)\n",
    "print score"
   ]
  },
  {
   "cell_type": "markdown",
   "metadata": {},
   "source": [
    "Multilabel (not necessary)"
   ]
  },
  {
   "cell_type": "code",
   "execution_count": 8,
   "metadata": {
    "collapsed": false
   },
   "outputs": [
    {
     "name": "stdout",
     "output_type": "stream",
     "text": [
      "0.714776632302\n"
     ]
    }
   ],
   "source": [
    "rf_ispia = ensemble.RandomForestClassifier(n_estimators = 50)\n",
    "rf_ispia.fit(X_pia_train, y_pia_train)\n",
    "\n",
    "score = rf_ispia.score(X_pia_test, y_pia_test)\n",
    "print score"
   ]
  },
  {
   "cell_type": "code",
   "execution_count": 9,
   "metadata": {
    "collapsed": false
   },
   "outputs": [
    {
     "name": "stdout",
     "output_type": "stream",
     "text": [
      "0.819587628866\n"
     ]
    }
   ],
   "source": [
    "rf_isvio = ensemble.RandomForestClassifier(n_estimators = 50)\n",
    "rf_isvio.fit(X_vio_train, y_vio_train)\n",
    "\n",
    "score = rf_isvio.score(X_vio_test, y_vio_test)\n",
    "print score"
   ]
  },
  {
   "cell_type": "code",
   "execution_count": 10,
   "metadata": {
    "collapsed": false
   },
   "outputs": [
    {
     "name": "stdout",
     "output_type": "stream",
     "text": [
      "0.723367697595\n"
     ]
    }
   ],
   "source": [
    "rf_isgac = ensemble.RandomForestClassifier(n_estimators = 50)\n",
    "rf_isgac.fit(X_gac_train, y_gac_train)\n",
    "\n",
    "score = rf_isgac.score(X_gac_test, y_gac_test)\n",
    "print score"
   ]
  },
  {
   "cell_type": "markdown",
   "metadata": {},
   "source": [
    "Should have prepared a supertrain dataset, now is TODO"
   ]
  },
  {
   "cell_type": "markdown",
   "metadata": {},
   "source": [
    "Unsurprisingly, ```sklearn``` already has multi-label classifier"
   ]
  },
  {
   "cell_type": "code",
   "execution_count": 11,
   "metadata": {
    "collapsed": false
   },
   "outputs": [
    {
     "name": "stderr",
     "output_type": "stream",
     "text": [
      "/usr/local/lib/python2.7/dist-packages/numpy/core/fromnumeric.py:2652: VisibleDeprecationWarning: `rank` is deprecated; use the `ndim` attribute or function instead. To find the rank of a matrix see `numpy.linalg.matrix_rank`.\n",
      "  VisibleDeprecationWarning)\n"
     ]
    },
    {
     "name": "stdout",
     "output_type": "stream",
     "text": [
      "0.501718213058\n",
      "0.501718213058\n"
     ]
    }
   ],
   "source": [
    "Y_train = preprocessing.MultiLabelBinarizer().fit_transform([[y] for y in y_train])\n",
    "Y_test = preprocessing.MultiLabelBinarizer().fit_transform([[y] for y in y_test])\n",
    "\n",
    "clf = multiclass.OneVsRestClassifier(ensemble.RandomForestClassifier(n_estimators = 50))\n",
    "clf.fit(X_train, Y_train)\n",
    "\n",
    "score = clf.score(X_test, Y_test)\n",
    "\n",
    "print score"
   ]
  },
  {
   "cell_type": "markdown",
   "metadata": {},
   "source": [
    "Poor quality, because not multi-label, or the metric is bad. Come up with another matric?"
   ]
  }
 ],
 "metadata": {
  "kernelspec": {
   "display_name": "Python 2",
   "language": "python",
   "name": "python2"
  },
  "language_info": {
   "codemirror_mode": {
    "name": "ipython",
    "version": 2
   },
   "file_extension": ".py",
   "mimetype": "text/x-python",
   "name": "python",
   "nbconvert_exporter": "python",
   "pygments_lexer": "ipython2",
   "version": "2.7.6"
  }
 },
 "nbformat": 4,
 "nbformat_minor": 0
}
