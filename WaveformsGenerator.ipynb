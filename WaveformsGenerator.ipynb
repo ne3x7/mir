{
 "cells": [
  {
   "cell_type": "code",
   "execution_count": 1,
   "metadata": {
    "collapsed": false
   },
   "outputs": [
    {
     "name": "stdout",
     "output_type": "stream",
     "text": [
      "Populating the interactive namespace from numpy and matplotlib\n"
     ]
    }
   ],
   "source": [
    "import numpy as np\n",
    "import pandas as pd\n",
    "import seaborn as sns\n",
    "import pickle\n",
    "from os import path, listdir\n",
    "from essentia.standard import MonoLoader\n",
    "from IPython.display import display\n",
    "from ipywidgets import FloatProgress\n",
    "%pylab inline"
   ]
  },
  {
   "cell_type": "code",
   "execution_count": 2,
   "metadata": {
    "collapsed": false
   },
   "outputs": [
    {
     "name": "stdout",
     "output_type": "stream",
     "text": [
      "['cla', 'gac', 'cel', 'org', 'vio', 'tru', 'gel', 'pia', 'sax', 'flu']\n"
     ]
    }
   ],
   "source": [
    "fr = 44100.0\n",
    "list_of_inst = listdir(path.join(path.abspath(path.curdir), 'IRMAS-TrainingData'))\n",
    "print list_of_inst"
   ]
  },
  {
   "cell_type": "code",
   "execution_count": 3,
   "metadata": {
    "collapsed": false
   },
   "outputs": [
    {
     "name": "stdout",
     "output_type": "stream",
     "text": [
      "['vio', 'IRMAS-TrainingData', 'sax', '[gac][pop_roc]0594__3.wav', 'pia', 'tru', '.ipynb_checkpoints', 'cel', 'FeaturesRetrieval.ipynb', 'MusicExamples', 'FeaturesRetrieval2.ipynb']\n"
     ]
    }
   ],
   "source": [
    "list_of_done = listdir(path.curdir)\n",
    "print list_of_done"
   ]
  },
  {
   "cell_type": "markdown",
   "metadata": {},
   "source": [
    "CAUTION! WILL FAIL HALFWAY!"
   ]
  },
  {
   "cell_type": "code",
   "execution_count": null,
   "metadata": {
    "collapsed": false
   },
   "outputs": [],
   "source": [
    "for dname in list_of_inst:\n",
    "    direc = path.join(path.abspath(path.curdir), 'IRMAS-TrainingData', dname)\n",
    "\n",
    "    minv = 0\n",
    "    maxv = len(listdir(direc))\n",
    "    fp = FloatProgress(maxv)\n",
    "    fp.value = minv\n",
    "    display(fp)\n",
    "\n",
    "    tmp = []\n",
    "    for f in listdir(direc):\n",
    "        try:\n",
    "            audio = MonoLoader(filename=path.join(direc, f))()\n",
    "            tmp.append(audio)\n",
    "            fp.value += 1\n",
    "        except RuntimeError:\n",
    "            print 'Error in file %s' % f\n",
    "    with open(dname, 'w') as ftw:       \n",
    "        pickle.dump(tmp, ftw)"
   ]
  },
  {
   "cell_type": "markdown",
   "metadata": {
    "collapsed": true
   },
   "source": [
    "Let's look at some waveforms"
   ]
  },
  {
   "cell_type": "code",
   "execution_count": null,
   "metadata": {
    "collapsed": true
   },
   "outputs": [],
   "source": [
    "pia = pickle.load(pia)"
   ]
  },
  {
   "cell_type": "code",
   "execution_count": null,
   "metadata": {
    "collapsed": true
   },
   "outputs": [],
   "source": [
    "timeline = np.arange(len(pia[0])) / fr\n",
    "\n",
    "fig, axes = plt.subplots(nrows=5, ncols=2, figsize=(20, 10))\n",
    "axlist = [x for ax in axes for x in ax]\n",
    "\n",
    "for audio, ax in zip(pia[:10], axlist):\n",
    "    ax.plot(timeline, audio)\n",
    "    \n",
    "plt.show()"
   ]
  },
  {
   "cell_type": "markdown",
   "metadata": {},
   "source": [
    "Guitar info for tries"
   ]
  },
  {
   "cell_type": "code",
   "execution_count": 2,
   "metadata": {
    "collapsed": false
   },
   "outputs": [
    {
     "name": "stderr",
     "output_type": "stream",
     "text": [
      "Widget Javascript not detected.  It may not be installed properly.\n"
     ]
    }
   ],
   "source": [
    "where = path.join(path.abspath(path.curdir), 'IRMAS-TrainingData', 'gel')\n",
    "\n",
    "minv = 0\n",
    "maxv = len(listdir(where))\n",
    "\n",
    "fp = FloatProgress(maxv)\n",
    "fp.value = minv\n",
    "display(fp)\n",
    "\n",
    "tmp = []\n",
    "\n",
    "for f in listdir(where):\n",
    "    try:\n",
    "        audio = MonoLoader(filename=path.join(where, f))()\n",
    "        tmp.append(audio)\n",
    "        fp.value += 1\n",
    "    except RuntimeError:\n",
    "        print 'Error in file %s' % f\n",
    "\n",
    "with open('gel', 'w') as ftw:\n",
    "    pickle.dump(tmp, ftw)"
   ]
  },
  {
   "cell_type": "code",
   "execution_count": 3,
   "metadata": {
    "collapsed": true
   },
   "outputs": [],
   "source": [
    "with open('gac', 'w') as ftw:\n",
    "    pickle.dump(tmp, ftw)"
   ]
  },
  {
   "cell_type": "code",
   "execution_count": null,
   "metadata": {
    "collapsed": true
   },
   "outputs": [],
   "source": []
  }
 ],
 "metadata": {
  "kernelspec": {
   "display_name": "Python 2",
   "language": "python",
   "name": "python2"
  },
  "language_info": {
   "codemirror_mode": {
    "name": "ipython",
    "version": 2
   },
   "file_extension": ".py",
   "mimetype": "text/x-python",
   "name": "python",
   "nbconvert_exporter": "python",
   "pygments_lexer": "ipython2",
   "version": "2.7.6"
  }
 },
 "nbformat": 4,
 "nbformat_minor": 0
}
