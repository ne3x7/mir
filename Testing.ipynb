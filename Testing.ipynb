{
 "cells": [
  {
   "cell_type": "code",
   "execution_count": 1,
   "metadata": {
    "collapsed": false
   },
   "outputs": [
    {
     "name": "stdout",
     "output_type": "stream",
     "text": [
      "Populating the interactive namespace from numpy and matplotlib\n"
     ]
    }
   ],
   "source": [
    "import numpy as np\n",
    "import pandas as pd\n",
    "import seaborn as sns\n",
    "import xgboost as xgb\n",
    "import re\n",
    "from os import path, listdir\n",
    "from ipywidgets import FloatProgress\n",
    "from matplotlib.colors import ListedColormap\n",
    "%pylab inline"
   ]
  },
  {
   "cell_type": "code",
   "execution_count": 2,
   "metadata": {
    "collapsed": true
   },
   "outputs": [],
   "source": [
    "def tolerant_score(expected, predicted):\n",
    "    score = 0.\n",
    "    for one, two in zip(expected, predicted):\n",
    "        for xx, yy in zip(one, two):\n",
    "            if xx == yy:\n",
    "                score += 0.33\n",
    "    return score / len(expected)"
   ]
  },
  {
   "cell_type": "code",
   "execution_count": 3,
   "metadata": {
    "collapsed": true
   },
   "outputs": [],
   "source": [
    "def get_frames(audio, fr = 44100., fs = 0.33):\n",
    "    return [audio[x:x+int(fr * fs)] for x in [k * int(fr * fs) for k in range(int(1 / fs))]]"
   ]
  },
  {
   "cell_type": "code",
   "execution_count": 4,
   "metadata": {
    "collapsed": true
   },
   "outputs": [],
   "source": [
    "from essentia.standard import Windowing, ZeroCrossingRate, Energy\n",
    "from essentia.standard import Spectrum, Centroid, CentralMoments, DistributionShape, MFCC\n",
    "\n",
    "window = Windowing()\n",
    "zcr = ZeroCrossingRate()\n",
    "energy = Energy()\n",
    "spectrum = Spectrum()\n",
    "centroid = Centroid()\n",
    "cm = CentralMoments()\n",
    "dshape = DistributionShape()\n",
    "mfcc = MFCC()\n",
    "\n",
    "def get_features(frame):\n",
    "    spec = spectrum(window(frame))\n",
    "    bands, coefs = mfcc(spec)\n",
    "    res = [zcr(frame), energy(frame), centroid(spec)]\n",
    "    res.extend(dshape(cm(spec)))\n",
    "    res.extend(bands)\n",
    "    res.extend(coefs)\n",
    "    return res"
   ]
  },
  {
   "cell_type": "code",
   "execution_count": 5,
   "metadata": {
    "collapsed": true
   },
   "outputs": [],
   "source": [
    "from sklearn.preprocessing import StandardScaler\n",
    "\n",
    "data = pd.read_csv('thebestclasses.csv', index_col='Unnamed: 0')\n",
    "\n",
    "X = data.drop(['Label', 'Bands mean', 'Coefs mean'], axis = 1)\n",
    "y = data['Label']\n",
    "\n",
    "sc = StandardScaler()\n",
    "X_train = StandardScaler.fit_transform(sc, X)"
   ]
  },
  {
   "cell_type": "code",
   "execution_count": 6,
   "metadata": {
    "collapsed": false
   },
   "outputs": [
    {
     "name": "stdout",
     "output_type": "stream",
     "text": [
      "['01 - Da Duh Dah-5.wav', '01 - Chet Baker - Prayer For The Newborn-20.txt', \"01. I Don't Worry About a Thing-4.wav\", '01 - Da Duh Dah-5.txt', 'Tool - Lateralis-5.wav', '01 - Chet Baker - Prayer For The Newborn-20.wav', \"01. I Don't Worry About a Thing-4.txt\", 'Tool - Lateralis-5.txt', 'Debussy, Sonata for Violin & Piano - 1 Allegro vivo-2.wav', 'Debussy, Sonata for Violin & Piano - 1 Allegro vivo-2.txt']\n"
     ]
    }
   ],
   "source": [
    "from essentia.standard import MonoLoader\n",
    "\n",
    "list_of_files = listdir(path.join(path.abspath(path.curdir), 'testing'))\n",
    "list_of_instr = ['pia', 'vio', 'tru']\n",
    "\n",
    "wav_ptn = re.compile('wav')\n",
    "\n",
    "audios = []\n",
    "\n",
    "for fname in list_of_files:\n",
    "    if re.search(wav_ptn, fname):\n",
    "        audios.append(MonoLoader(filename=path.join(path.abspath(path.curdir), 'testing', fname))())\n",
    "        \n",
    "print list_of_files"
   ]
  },
  {
   "cell_type": "code",
   "execution_count": 7,
   "metadata": {
    "collapsed": false
   },
   "outputs": [],
   "source": [
    "answers = np.array([[1., 0., 1.], [1., 0., 0.], [0., 0., 0.], [1., 0., 1.], [1., 1., 0.]], dtype=float64)"
   ]
  },
  {
   "cell_type": "code",
   "execution_count": 8,
   "metadata": {
    "collapsed": false
   },
   "outputs": [
    {
     "name": "stdout",
     "output_type": "stream",
     "text": [
      "(25, 59)\n",
      "[[  2.26417229e-01   1.24546108e+01   3.58231723e-01   8.42445940e-02\n",
      "    1.95207939e-01  -1.48568106e+00   2.36716824e-05   2.26124175e-05\n",
      "    1.51999411e-05   1.59696028e-05   7.12649080e-06   1.62243778e-05\n",
      "    3.67105531e-05   8.59241652e-07   1.45555703e-06   4.45174152e-07\n",
      "    1.85010704e-05   8.36041636e-06   4.28339490e-07   6.91948117e-06\n",
      "    2.24877858e-05   4.34578737e-07   2.29469651e-06   2.95310565e-06\n",
      "    1.83786881e-07   1.47582011e-06   1.14042713e-07   3.43558924e-07\n",
      "    3.99035230e-07   2.58517105e-07   1.40421236e-07   5.93999374e-08\n",
      "    1.32796373e-07   1.64011212e-07   8.11032237e-08   1.13056643e-07\n",
      "    7.49943680e-08   4.64492445e-08   5.44427543e-08   1.32837670e-07\n",
      "    2.19250964e-07   2.38088347e-07   2.21603585e-07   1.41953393e-07\n",
      "    1.73251735e-07   2.27876697e-07  -7.73353638e+02   9.54976654e+01\n",
      "    2.44143009e+01  -1.29470272e+01   1.51408958e+01   1.04692383e+01\n",
      "    1.01076031e+01   4.83669281e-01  -1.14575424e+01  -4.95921516e+00\n",
      "   -7.76071930e+00   4.45978737e+00   6.44851685e-01]\n",
      " [  2.24263042e-01   7.88623524e+00   3.45069677e-01   8.86606872e-02\n",
      "    2.55472690e-01  -1.48155820e+00   5.84724294e-05   4.34994654e-05\n",
      "    7.82196366e-06   9.06705100e-06   3.57551726e-05   3.33741809e-05\n",
      "    2.95626432e-06   8.45406646e-07   1.78098799e-05   4.61558056e-06\n",
      "    1.93098913e-06   1.77828713e-06   2.36571282e-06   5.76041941e-07\n",
      "    4.31326669e-07   1.30409916e-07   1.49516552e-07   1.75137146e-07\n",
      "    1.03333917e-07   3.09557890e-08   6.28322070e-08   4.92135186e-08\n",
      "    1.18926259e-07   2.21244065e-07   1.49010035e-07   4.19840553e-08\n",
      "    8.24564523e-08   1.92279302e-07   3.80650782e-08   6.35355093e-08\n",
      "    4.50862636e-08   3.70193227e-08   3.57850638e-08   6.47334275e-08\n",
      "    1.09079977e-07   8.63692478e-08   9.70567555e-08   7.35858876e-08\n",
      "    9.66019087e-08   1.12738121e-07  -8.10391479e+02   1.05502304e+02\n",
      "    5.45000916e+01   9.08320808e+00  -1.78729820e+00  -9.53771210e+00\n",
      "    1.23664875e+01   9.79807091e+00  -3.13948441e+00   1.82557106e+00\n",
      "   -1.16366386e+00  -1.44485855e+00  -3.37623787e+00]]\n"
     ]
    }
   ],
   "source": [
    "features = []\n",
    "\n",
    "for audio in audios:\n",
    "    for frame in get_frames(audio, fs=0.2):\n",
    "        features.append(get_features(frame))\n",
    "\n",
    "print np.array(features).shape\n",
    "print np.asmatrix(features)[:2]"
   ]
  },
  {
   "cell_type": "markdown",
   "metadata": {},
   "source": [
    "Single label"
   ]
  },
  {
   "cell_type": "code",
   "execution_count": 9,
   "metadata": {
    "collapsed": false
   },
   "outputs": [
    {
     "name": "stdout",
     "output_type": "stream",
     "text": [
      "Best params: {'n_estimators': 22, 'max_depth': 15, 'min_samples_leaf': 1}\n",
      "[ 1.  1.  1.  1.  1.  2.  2.  1.  2.  1.  1.  1.  1.  1.  1.  0.  2.  2.\n",
      "  2.  2.  1.  0.  0.  2.  1.]\n"
     ]
    }
   ],
   "source": [
    "from sklearn.ensemble import RandomForestClassifier\n",
    "from sklearn.grid_search import RandomizedSearchCV\n",
    "\n",
    "rf_params = {'n_estimators': range(1, 50, 3), 'max_depth': range(1, 20, 1), 'min_samples_leaf': range(1, 10, 1)}\n",
    "\n",
    "model = RandomForestClassifier(n_estimators=43, max_depth=12, min_samples_leaf=3, random_state=0)\n",
    "optimizer = RandomizedSearchCV(estimator=model, param_distributions=rf_params, cv=5)\n",
    "optimizer.fit(X_train, y)\n",
    "preds = optimizer.predict(features)\n",
    "\n",
    "print 'Best params: %s' % optimizer.best_params_\n",
    "print preds"
   ]
  },
  {
   "cell_type": "code",
   "execution_count": 15,
   "metadata": {
    "collapsed": false
   },
   "outputs": [
    {
     "data": {
      "text/plain": [
       "[array([ 1.,  1.,  1.,  1.,  1.]),\n",
       " array([ 2.,  2.,  1.,  2.,  1.]),\n",
       " array([ 1.,  1.,  1.,  1.,  1.]),\n",
       " array([ 0.,  2.,  2.,  2.,  2.]),\n",
       " array([ 1.,  0.,  0.,  2.,  1.])]"
      ]
     },
     "execution_count": 15,
     "metadata": {},
     "output_type": "execute_result"
    }
   ],
   "source": [
    "preds_by_comp = [preds[x:x+5] for x in [k * 5 for k in range(5)]]\n",
    "preds_mean = [round(x.mean(), 0) for x in preds_by_comp]\n",
    "preds_by_comp"
   ]
  },
  {
   "cell_type": "markdown",
   "metadata": {},
   "source": [
    "Multilabel"
   ]
  },
  {
   "cell_type": "code",
   "execution_count": 11,
   "metadata": {
    "collapsed": false
   },
   "outputs": [],
   "source": [
    "answers = np.array([[1., 0., 1.],\n",
    "                    [1., 0., 0.],\n",
    "                    [0., 0., 0.],\n",
    "                    [1., 0., 1.],\n",
    "                    [1., 1., 0.]], dtype=float64)"
   ]
  },
  {
   "cell_type": "code",
   "execution_count": 12,
   "metadata": {
    "collapsed": false
   },
   "outputs": [
    {
     "name": "stdout",
     "output_type": "stream",
     "text": [
      "[ 1.  0.  1.] [0 0 0]\n",
      "[ 1.  0.  0.] [0 0 0]\n",
      "[ 0.  0.  0.] [1 0 0]\n",
      "[ 1.  0.  1.] [0 0 1]\n",
      "[ 1.  1.  0.] [0 0 0]\n"
     ]
    }
   ],
   "source": [
    "from sklearn.multiclass import OneVsRestClassifier\n",
    "from sklearn.preprocessing import MultiLabelBinarizer\n",
    "\n",
    "base = RandomForestClassifier(n_estimators=43, max_depth=12, min_samples_leaf=3, random_state=0)\n",
    "\n",
    "clf = OneVsRestClassifier(base)\n",
    "clf.fit(X_train, MultiLabelBinarizer().fit_transform([[yy] for yy in y]))\n",
    "\n",
    "y_pred = clf.predict(features)\n",
    "\n",
    "ypreds_by_comp = [y_pred[x:x+5] for x in [k * 5 for k in range(5)]]\n",
    "\n",
    "res = []\n",
    "for pred in ypreds_by_comp:\n",
    "    res.append([x.mean() for x in pred.T])\n",
    "\n",
    "for one, two in zip(answers, y_pred):\n",
    "    print one, two"
   ]
  },
  {
   "cell_type": "code",
   "execution_count": 13,
   "metadata": {
    "collapsed": false
   },
   "outputs": [
    {
     "name": "stdout",
     "output_type": "stream",
     "text": [
      "[ 1.  0.  1.] [0.20000000000000001, 0.0, 0.20000000000000001]\n",
      "[ 1.  0.  0.] [0.0, 0.20000000000000001, 0.0]\n",
      "[ 0.  0.  0.] [0.0, 0.20000000000000001, 0.59999999999999998]\n",
      "[ 1.  0.  1.] [0.0, 0.59999999999999998, 0.59999999999999998]\n",
      "[ 1.  1.  0.] [0.0, 0.80000000000000004, 0.20000000000000001]\n"
     ]
    }
   ],
   "source": [
    "for one, two in zip(answers, res):\n",
    "    print one, two"
   ]
  }
 ],
 "metadata": {
  "kernelspec": {
   "display_name": "Python 2",
   "language": "python",
   "name": "python2"
  },
  "language_info": {
   "codemirror_mode": {
    "name": "ipython",
    "version": 2
   },
   "file_extension": ".py",
   "mimetype": "text/x-python",
   "name": "python",
   "nbconvert_exporter": "python",
   "pygments_lexer": "ipython2",
   "version": "2.7.6"
  }
 },
 "nbformat": 4,
 "nbformat_minor": 0
}
